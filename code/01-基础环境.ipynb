{
 "cells": [
  {
   "cell_type": "markdown",
   "id": "24e36663",
   "metadata": {},
   "source": [
    "# 基础环境搭建和Langchain入门案例"
   ]
  },
  {
   "cell_type": "markdown",
   "id": "5b120255",
   "metadata": {},
   "source": [
    "## 基础环境搭建"
   ]
  },
  {
   "cell_type": "code",
   "execution_count": null,
   "id": "c8a5b780",
   "metadata": {},
   "outputs": [
    {
     "name": "stdout",
     "output_type": "stream",
     "text": [
      "Python 3.11.13\n"
     ]
    }
   ],
   "source": [
    "!python --version"
   ]
  },
  {
   "cell_type": "code",
   "execution_count": null,
   "id": "84b31d4d",
   "metadata": {},
   "outputs": [
    {
     "name": "stdout",
     "output_type": "stream",
     "text": [
      "Package                  Version\n",
      "------------------------ ---------------\n",
      "aiohappyeyeballs         2.6.1\n",
      "aiohttp                  3.12.11\n",
      "aiosignal                1.3.2\n",
      "annotated-types          0.7.0\n",
      "anyio                    4.9.0\n",
      "asttokens                3.0.0\n",
      "attrs                    25.3.0\n",
      "certifi                  2025.4.26\n",
      "charset-normalizer       3.4.2\n",
      "colorama                 0.4.6\n",
      "comm                     0.2.2\n",
      "dataclasses-json         0.6.7\n",
      "debugpy                  1.8.14\n",
      "decorator                5.2.1\n",
      "distro                   1.9.0\n",
      "executing                2.2.0\n",
      "frozenlist               1.6.2\n",
      "google_search_results    2.4.2\n",
      "greenlet                 3.2.3\n",
      "h11                      0.16.0\n",
      "httpcore                 1.0.9\n",
      "httpx                    0.28.1\n",
      "httpx-sse                0.4.0\n",
      "idna                     3.10\n",
      "ipykernel                6.29.5\n",
      "ipython                  9.3.0\n",
      "ipython_pygments_lexers  1.1.1\n",
      "jedi                     0.19.2\n",
      "jiter                    0.10.0\n",
      "jsonpatch                1.33\n",
      "jsonpointer              3.0.0\n",
      "jupyter_client           8.6.3\n",
      "jupyter_core             5.8.1\n",
      "langchain                0.3.25\n",
      "langchain-community      0.3.24\n",
      "langchain-core           0.3.64\n",
      "langchain-openai         0.3.21\n",
      "langchain-text-splitters 0.3.8\n",
      "langchainhub             0.1.21\n",
      "langsmith                0.3.45\n",
      "marshmallow              3.26.1\n",
      "matplotlib-inline        0.1.7\n",
      "multidict                6.4.4\n",
      "mypy_extensions          1.1.0\n",
      "nest-asyncio             1.6.0\n",
      "numpy                    2.3.0\n",
      "openai                   1.84.0\n",
      "orjson                   3.10.18\n",
      "packaging                24.2\n",
      "parso                    0.8.4\n",
      "pillow                   11.2.1\n",
      "pip                      25.1\n",
      "platformdirs             4.3.8\n",
      "prompt_toolkit           3.0.51\n",
      "propcache                0.3.1\n",
      "psutil                   7.0.0\n",
      "pure_eval                0.2.3\n",
      "pydantic                 2.11.5\n",
      "pydantic_core            2.33.2\n",
      "pydantic-settings        2.9.1\n",
      "Pygments                 2.19.1\n",
      "python-dateutil          2.9.0.post0\n",
      "python-dotenv            1.1.0\n",
      "pywin32                  310\n",
      "PyYAML                   6.0.2\n",
      "pyzmq                    27.0.0\n",
      "regex                    2024.11.6\n",
      "requests                 2.32.3\n",
      "requests-toolbelt        1.0.0\n",
      "setuptools               78.1.1\n",
      "six                      1.17.0\n",
      "sniffio                  1.3.1\n",
      "SQLAlchemy               2.0.41\n",
      "stack-data               0.6.3\n",
      "tenacity                 9.1.2\n",
      "tiktoken                 0.9.0\n",
      "tornado                  6.5.1\n",
      "tqdm                     4.67.1\n",
      "traitlets                5.14.3\n",
      "types-requests           2.32.0.20250602\n",
      "typing_extensions        4.14.0\n",
      "typing-inspect           0.9.0\n",
      "typing-inspection        0.4.1\n",
      "urllib3                  2.4.0\n",
      "wcwidth                  0.2.13\n",
      "wheel                    0.45.1\n",
      "yarl                     1.20.0\n",
      "zstandard                0.23.0\n"
     ]
    }
   ],
   "source": [
    "!pip list"
   ]
  },
  {
   "cell_type": "code",
   "execution_count": 19,
   "id": "1bd53557",
   "metadata": {},
   "outputs": [
    {
     "data": {
      "text/plain": [
       "'0.3.25'"
      ]
     },
     "execution_count": 19,
     "metadata": {},
     "output_type": "execute_result"
    }
   ],
   "source": [
    "import langchain\n",
    "langchain.__version__"
   ]
  },
  {
   "cell_type": "markdown",
   "id": "6a1933fc",
   "metadata": {},
   "source": [
    "## API Key资源\n",
    "可以注册阿里云百炼平台，新用户可以免费获取1000000token<br/>\n",
    "[阿里百炼平台](https://bailian.console.aliyun.com/?tab=model#/model-market/detail/qwen3?modelGroup=qwen3)"
   ]
  },
  {
   "cell_type": "markdown",
   "id": "351b91bc",
   "metadata": {},
   "source": [
    "## Langchain入门案例\n",
    "langchain基础组成:\n",
    "- 提示词工程 PromptTemplate\n",
    "  - 将提问的上下文模板化，支持参数传入\n",
    "- LLM Model\n",
    "  - 通用LLM接口\n",
    "- 模型输出格式解析 OutputParser\n",
    "  - 支持类似Json等格式化数据输出"
   ]
  },
  {
   "cell_type": "markdown",
   "id": "730d1901",
   "metadata": {},
   "source": [
    "### 如何创建一个LLM"
   ]
  },
  {
   "cell_type": "code",
   "execution_count": null,
   "id": "b979a226",
   "metadata": {},
   "outputs": [
    {
     "name": "stdout",
     "output_type": "stream",
     "text": [
      "介绍一下你自己\n"
     ]
    },
    {
     "data": {
      "text/plain": [
       "AIMessage(content='您好！我是通义千问，阿里巴巴集团旗下的超大规模语言模型。我能够回答问题、创作文字，比如写故事、公文、邮件、剧本等，还能进行逻辑推理、编程，甚至表达观点和玩游戏。我的训练数据非常广泛，涵盖了大量互联网文本，这让我具备了跨领域的知识和多语言支持能力，包括但不限于中文、英文、德语、法语、西班牙语等。\\n\\n如果你有任何问题或需要帮助，请随时告诉我！我会尽力提供准确和有用的信息。希望我能成为你的好帮手！', additional_kwargs={'refusal': None}, response_metadata={'token_usage': {'completion_tokens': 115, 'prompt_tokens': 10, 'total_tokens': 125, 'completion_tokens_details': None, 'prompt_tokens_details': {'audio_tokens': None, 'cached_tokens': 0}}, 'model_name': 'qwen-plus', 'system_fingerprint': None, 'id': 'chatcmpl-e7410ba9-eaa2-92b1-ab33-4cbc3b224016', 'service_tier': None, 'finish_reason': 'stop', 'logprobs': None}, id='run--f473facd-4a62-48f9-b326-24c42fa673d9-0', usage_metadata={'input_tokens': 10, 'output_tokens': 115, 'total_tokens': 125, 'input_token_details': {'cache_read': 0}, 'output_token_details': {}})"
      ]
     },
     "execution_count": 32,
     "metadata": {},
     "output_type": "execute_result"
    }
   ],
   "source": [
    "from langchain_openai import ChatOpenAI\n",
    "from langchain_core.prompts import PromptTemplate\n",
    "import os\n",
    "llm = ChatOpenAI(\n",
    "    model=\"qwen-plus\", #指定模型名称\n",
    "    temperature=0,\n",
    "    api_key=os.getenv(\"DASHSCOPE_API_KEY\"), #api-key\n",
    "    base_url=\"https://dashscope.aliyuncs.com/compatible-mode/v1\", #请求地址\n",
    ")\n",
    "message = \"介绍一下你自己\"\n",
    "print(message)\n",
    "# llm.invoke(message)"
   ]
  },
  {
   "cell_type": "markdown",
   "id": "3865e380",
   "metadata": {},
   "source": [
    "### 提示词工程"
   ]
  },
  {
   "cell_type": "code",
   "execution_count": 35,
   "id": "ff85daf3",
   "metadata": {},
   "outputs": [
    {
     "data": {
      "text/plain": [
       "'介绍一下中国的历史,以及安徽在中国的战略地位'"
      ]
     },
     "execution_count": 35,
     "metadata": {},
     "output_type": "execute_result"
    }
   ],
   "source": [
    "from langchain_core.prompts import PromptTemplate\n",
    "\n",
    "prompt = PromptTemplate.from_template(\"介绍一下{country}的历史,以及{province}在{country}的战略地位\")\n",
    "prompt = prompt.format(country=\"中国\",province=\"安徽\")\n",
    "prompt"
   ]
  },
  {
   "cell_type": "markdown",
   "id": "041143c8",
   "metadata": {},
   "source": [
    "### 输出解析"
   ]
  },
  {
   "cell_type": "code",
   "execution_count": 7,
   "id": "d6cbf124",
   "metadata": {},
   "outputs": [
    {
     "data": {
      "text/plain": [
       "['中国,武汉']"
      ]
     },
     "execution_count": 7,
     "metadata": {},
     "output_type": "execute_result"
    }
   ],
   "source": [
    "from langchain_core.output_parsers import BaseOutputParser\n",
    "class MyOutputParser(BaseOutputParser):\n",
    "  def parse(self, text):\n",
    "    return text.strip().split(\"，\")\n",
    "MyOutputParser().parse(\"中国,武汉\")\n",
    "  "
   ]
  },
  {
   "cell_type": "markdown",
   "id": "cf03c264",
   "metadata": {},
   "source": [
    "### 串联示例\n",
    "通义千问可以通过langchain_community.llms import Tongyi来创建<br/>\n",
    "其参数用法与langchain_openai.OpenAI一致"
   ]
  },
  {
   "cell_type": "code",
   "execution_count": 5,
   "id": "9b5a9b86",
   "metadata": {},
   "outputs": [],
   "source": [
    "from langchain_community.llms import Tongyi\n",
    "import os\n",
    "llm = Tongyi(\n",
    "    model=\"qwen-plus\", #指定模型名称\n",
    "    temperature=0,\n",
    "    api_key=os.getenv(\"DASHSCOPE_API_KEY\"), #api-key\n",
    "    base_url=\"https://dashscope.aliyuncs.com/compatible-mode/v1\", #请求地址\n",
    ")"
   ]
  },
  {
   "cell_type": "code",
   "execution_count": 11,
   "id": "9411ce32",
   "metadata": {},
   "outputs": [
    {
     "data": {
      "text/plain": [
       "('绿草如茵别学府，\\n垂杨拂水唤归舟。\\n同窗此去天涯远，\\n师恩铭记岁月留。',\n",
       " ['绿草如茵别学府', '\\n垂杨拂水唤归舟。\\n同窗此去天涯远', '\\n师恩铭记岁月留。'])"
      ]
     },
     "execution_count": 11,
     "metadata": {},
     "output_type": "execute_result"
    }
   ],
   "source": [
    "input_prompt = \"请以{topic}作为主题，撰写一首绝句诗词\"\n",
    "input_prompt = input_prompt.format(topic=\"毕业\")\n",
    "output_resp = llm.invoke(input_prompt)\n",
    "output_parse = MyOutputParser().parse(output_resp)\n",
    "output_resp,output_parse"
   ]
  }
 ],
 "metadata": {
  "kernelspec": {
   "display_name": "agent",
   "language": "python",
   "name": "python3"
  },
  "language_info": {
   "codemirror_mode": {
    "name": "ipython",
    "version": 3
   },
   "file_extension": ".py",
   "mimetype": "text/x-python",
   "name": "python",
   "nbconvert_exporter": "python",
   "pygments_lexer": "ipython3",
   "version": "3.11.13"
  }
 },
 "nbformat": 4,
 "nbformat_minor": 5
}
