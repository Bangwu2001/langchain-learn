{
 "cells": [
  {
   "cell_type": "code",
   "execution_count": null,
   "id": "c8a5b780",
   "metadata": {},
   "outputs": [
    {
     "name": "stdout",
     "output_type": "stream",
     "text": [
      "Python 3.11.13\n"
     ]
    }
   ],
   "source": [
    "!python --version"
   ]
  },
  {
   "cell_type": "code",
   "execution_count": null,
   "id": "84b31d4d",
   "metadata": {},
   "outputs": [
    {
     "name": "stdout",
     "output_type": "stream",
     "text": [
      "Package                  Version\n",
      "------------------------ ---------------\n",
      "aiohappyeyeballs         2.6.1\n",
      "aiohttp                  3.12.11\n",
      "aiosignal                1.3.2\n",
      "annotated-types          0.7.0\n",
      "anyio                    4.9.0\n",
      "asttokens                3.0.0\n",
      "attrs                    25.3.0\n",
      "certifi                  2025.4.26\n",
      "charset-normalizer       3.4.2\n",
      "colorama                 0.4.6\n",
      "comm                     0.2.2\n",
      "dataclasses-json         0.6.7\n",
      "debugpy                  1.8.14\n",
      "decorator                5.2.1\n",
      "distro                   1.9.0\n",
      "executing                2.2.0\n",
      "frozenlist               1.6.2\n",
      "google_search_results    2.4.2\n",
      "greenlet                 3.2.3\n",
      "h11                      0.16.0\n",
      "httpcore                 1.0.9\n",
      "httpx                    0.28.1\n",
      "httpx-sse                0.4.0\n",
      "idna                     3.10\n",
      "ipykernel                6.29.5\n",
      "ipython                  9.3.0\n",
      "ipython_pygments_lexers  1.1.1\n",
      "jedi                     0.19.2\n",
      "jiter                    0.10.0\n",
      "jsonpatch                1.33\n",
      "jsonpointer              3.0.0\n",
      "jupyter_client           8.6.3\n",
      "jupyter_core             5.8.1\n",
      "langchain                0.3.25\n",
      "langchain-community      0.3.24\n",
      "langchain-core           0.3.64\n",
      "langchain-openai         0.3.21\n",
      "langchain-text-splitters 0.3.8\n",
      "langchainhub             0.1.21\n",
      "langsmith                0.3.45\n",
      "marshmallow              3.26.1\n",
      "matplotlib-inline        0.1.7\n",
      "multidict                6.4.4\n",
      "mypy_extensions          1.1.0\n",
      "nest-asyncio             1.6.0\n",
      "numpy                    2.3.0\n",
      "openai                   1.84.0\n",
      "orjson                   3.10.18\n",
      "packaging                24.2\n",
      "parso                    0.8.4\n",
      "pillow                   11.2.1\n",
      "pip                      25.1\n",
      "platformdirs             4.3.8\n",
      "prompt_toolkit           3.0.51\n",
      "propcache                0.3.1\n",
      "psutil                   7.0.0\n",
      "pure_eval                0.2.3\n",
      "pydantic                 2.11.5\n",
      "pydantic_core            2.33.2\n",
      "pydantic-settings        2.9.1\n",
      "Pygments                 2.19.1\n",
      "python-dateutil          2.9.0.post0\n",
      "python-dotenv            1.1.0\n",
      "pywin32                  310\n",
      "PyYAML                   6.0.2\n",
      "pyzmq                    27.0.0\n",
      "regex                    2024.11.6\n",
      "requests                 2.32.3\n",
      "requests-toolbelt        1.0.0\n",
      "setuptools               78.1.1\n",
      "six                      1.17.0\n",
      "sniffio                  1.3.1\n",
      "SQLAlchemy               2.0.41\n",
      "stack-data               0.6.3\n",
      "tenacity                 9.1.2\n",
      "tiktoken                 0.9.0\n",
      "tornado                  6.5.1\n",
      "tqdm                     4.67.1\n",
      "traitlets                5.14.3\n",
      "types-requests           2.32.0.20250602\n",
      "typing_extensions        4.14.0\n",
      "typing-inspect           0.9.0\n",
      "typing-inspection        0.4.1\n",
      "urllib3                  2.4.0\n",
      "wcwidth                  0.2.13\n",
      "wheel                    0.45.1\n",
      "yarl                     1.20.0\n",
      "zstandard                0.23.0\n"
     ]
    }
   ],
   "source": [
    "!pip list"
   ]
  },
  {
   "cell_type": "code",
   "execution_count": 14,
   "id": "1bd53557",
   "metadata": {},
   "outputs": [
    {
     "data": {
      "text/plain": [
       "'0.3.25'"
      ]
     },
     "execution_count": 14,
     "metadata": {},
     "output_type": "execute_result"
    }
   ],
   "source": [
    "import langchain\n",
    "langchain.__version__"
   ]
  }
 ],
 "metadata": {
  "kernelspec": {
   "display_name": "Python 3 (ipykernel)",
   "language": "python",
   "name": "python3"
  },
  "language_info": {
   "codemirror_mode": {
    "name": "ipython",
    "version": 3
   },
   "file_extension": ".py",
   "mimetype": "text/x-python",
   "name": "python",
   "nbconvert_exporter": "python",
   "pygments_lexer": "ipython3",
   "version": "3.11.3"
  }
 },
 "nbformat": 4,
 "nbformat_minor": 5
}
