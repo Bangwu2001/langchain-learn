{
 "cells": [
  {
   "cell_type": "markdown",
   "id": "43361f9e",
   "metadata": {},
   "source": [
    "## Jupyter Notebook 常用快捷键\n",
    "\n",
    "### 基本操作\n",
    "- **保存**：`Ctrl + S`（Windows/Linux）或 `Command + S`（Mac）\n",
    "- **运行单元格**：\n",
    "  - `Shift + Enter`：运行当前单元格并将光标移动到下一个单元格。\n",
    "  - `Ctrl + Enter`：仅运行当前单元格。\n",
    "  - `Alt + Enter`：运行当前单元格并在其下方插入一个新的单元格。\n",
    "- **切换到命令模式**：`Esc`\n",
    "- **切换到编辑模式**：`Enter`\n",
    "\n",
    "### 单元格操作\n",
    "- **插入新单元格**：\n",
    "  - 在当前单元格上方插入：`命令模式下的 A`\n",
    "  - 在当前单元格下方插入：`命令模式下的 B`\n",
    "- **删除当前单元格**：`命令模式下的 DD`（连续按两次 D）\n",
    "- **剪切当前单元格**：`命令模式下的 X`\n",
    "- **复制当前单元格**：`命令模式下的 C`\n",
    "- **粘贴单元格**：`命令模式下的 V`\n",
    "\n",
    "### 单元格类型切换\n",
    "- **将单元格切换为代码类型**：`命令模式下的 Y`\n",
    "- **将单元格切换为 Markdown 类型**：`命令模式下的 M`\n",
    "\n",
    "### 编辑模式下的快捷键\n",
    "- **撤销上一步**：`Ctrl + Z`（Windows/Linux）或 `Command + Z`（Mac）\n",
    "- **重做上一步**：`Ctrl + Shift + Z`（Windows/Linux）或 `Command + Shift + Z`（Mac）\n",
    "- **选中上一行**：`Ctrl + Up`（Windows/Linux）\n",
    "- **选中下一行**：`Ctrl + Down`（Windows/Linux）\n",
    "- **跳到单元格开头**：`Ctrl + Home`（Windows/Linux）或 `Command + Home`（Mac）\n",
    "- **跳到单元格结尾**：`Ctrl + End`（Windows/Linux）或 `Command + End`（Mac）\n",
    "\n",
    "### 命令模式下的快捷键\n",
    "- **选中当前单元格上方的单元格**：`Up`（上箭头键）\n",
    "- **选中当前单元格下方的单元格**：`Down`（下箭头键）\n",
    "- **同时选中多个单元格**：`Shift + Up` 或 `Shift + Down`\n",
    "- **取消选中所有单元格**：`Ctrl + M` 然后按 `A`\n",
    "- **运行所有单元格**：`Ctrl + Shift + P`，输入 “Run all”\n",
    "- **运行选中的单元格**：`Shift + Enter`（在命令模式下无效，需要进入编辑模式）"
   ]
  }
 ],
 "metadata": {
  "kernelspec": {
   "display_name": "Python 3 (ipykernel)",
   "language": "python",
   "name": "python3"
  },
  "language_info": {
   "codemirror_mode": {
    "name": "ipython",
    "version": 3
   },
   "file_extension": ".py",
   "mimetype": "text/x-python",
   "name": "python",
   "nbconvert_exporter": "python",
   "pygments_lexer": "ipython3",
   "version": "3.11.3"
  }
 },
 "nbformat": 4,
 "nbformat_minor": 5
}
